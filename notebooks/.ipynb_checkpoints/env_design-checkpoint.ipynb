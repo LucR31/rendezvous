{
 "cells": [
  {
   "cell_type": "code",
   "execution_count": 2,
   "id": "7974478a-de9d-4602-8047-1a3b8decb7d5",
   "metadata": {},
   "outputs": [],
   "source": [
    "import logging.config\n",
    "import math\n",
    "import random\n",
    "import gym\n",
    "import numpy as np\n",
    "import pkg_resources\n",
    "from gym import spaces"
   ]
  },
  {
   "cell_type": "code",
   "execution_count": 3,
   "id": "50d29cec-ee4c-40ce-b196-7fe75cb0e2d8",
   "metadata": {},
   "outputs": [],
   "source": [
    "from astropy import units as u\n",
    "from poliastro.bodies import Earth\n",
    "from poliastro.twobody import Orbit\n",
    "from poliastro.plotting import OrbitPlotter2D\n",
    "from poliastro.maneuver import Maneuver\n",
    "from IPython.display import clear_output\n",
    "from time import sleep\n",
    "from prettytable import PrettyTable"
   ]
  },
  {
   "cell_type": "code",
   "execution_count": 4,
   "id": "815d15b7-7263-47f9-954a-392834296735",
   "metadata": {},
   "outputs": [],
   "source": [
    "class Poliastro_env(gym.Env):\n",
    "    \n",
    "\n",
    "    def __init__(self,r_1= [-6045, -3590, 2500]<< u.km,\n",
    "                      v_1= [-3.457, 6.618, 2.533]<< u.km/u.s):\n",
    "        \n",
    "        # Initial orbit\n",
    "        self.r_1 = r_1\n",
    "        self.v_1 = v_1\n",
    "        self.orbit = Orbit.from_vectors(Earth, r_1, v_1)\n",
    "        #Action space \n",
    "        self.action_space = spaces.Box(low=np.array([-10, -10, -10]),\n",
    "                                       high=np.array([10,10,10]),\n",
    "                                       dtype=np.float16)\n",
    "\n",
    "    def step(self,action):\n",
    "        \n",
    "        \"\"\"If crash, end the task\"\"\"\n",
    "        done=True if self.ground_check() or self.too_far() else False\n",
    "        \n",
    "        \"\"\"Take the action and make time pass\"\"\"\n",
    "        dv = action << (u.m / u.s)\n",
    "        self.orbit = self.orbit.apply_maneuver(Maneuver.impulse(dv))\n",
    "        self.orbit=self.orbit.propagate(20<<u.min)\n",
    "        \n",
    "        \"\"\"Get reward \"\"\"\n",
    "        reward=self.get_reward()\n",
    "        \n",
    "        return reward, done\n",
    "    \n",
    "    def get_reward(self):\n",
    "        \n",
    "        if self.check_distance()<10:\n",
    "            return 1\n",
    "        return 0\n",
    "            \n",
    "    \n",
    "    def ground_check(self): \n",
    "        \n",
    "        perigee=self.orbit.a*(1-self.orbit.ecc) \n",
    "    \n",
    "        if perigee <= 6371<< u.km:\n",
    "            return True    \n",
    "        return False\n",
    "    \n",
    "    def too_far(self):\n",
    "        \n",
    "        return True if self.orbit.a>16000<< u.km else False\n",
    "    \n",
    "    def perfect_rendevouz(self):\n",
    "        return True if self.check_distance()<=1 else False\n",
    "    \n",
    "    def check_distance(self):\n",
    "        \n",
    "        \"\"\" Goal spaceship data\"\"\"\n",
    "        r = [-6045, -3490, 2500] << u.km\n",
    "        v = [-3.457, 6.618, 2.533] << u.km / u.s\n",
    "        nostromo = Orbit.from_vectors(Earth, r, v)\n",
    "    \n",
    "        \"\"\"Difference in orbits shape\"\"\"\n",
    "        eccentricity_diff=abs(nostromo.ecc-self.orbit.ecc)\n",
    "        semi_major_ax_diff=abs(nostromo.a-self.orbit.a)\n",
    "        inclination_diff=abs(nostromo.inc-self.orbit.inc)\n",
    "        \n",
    "\n",
    "        score=round(semi_major_ax_diff.value+inclination_diff.value+eccentricity_diff.value,3)\n",
    "               \n",
    "        return score\n",
    "        \n",
    "\n",
    "    def reset(self):\n",
    "        self.orbit=Orbit.from_vectors(Earth, self.r_1, self.v_1)\n",
    "        return None\n",
    "\n",
    "    def render(self):\n",
    "        pass\n",
    "    "
   ]
  },
  {
   "cell_type": "markdown",
   "id": "6e7d3288-5ce1-4869-b812-66af0abdb715",
   "metadata": {
    "tags": []
   },
   "source": [
    "# Env Call"
   ]
  },
  {
   "cell_type": "code",
   "execution_count": 5,
   "id": "71c7d548-2365-4802-b631-716c22a33833",
   "metadata": {},
   "outputs": [
    {
     "name": "stderr",
     "output_type": "stream",
     "text": [
      "/opt/anaconda3/envs/rl/lib/python3.10/site-packages/gym/spaces/box.py:73: UserWarning: \u001b[33mWARN: Box bound precision lowered by casting to float16\u001b[0m\n",
      "  logger.warn(\n"
     ]
    }
   ],
   "source": [
    "env=Poliastro_env()"
   ]
  },
  {
   "cell_type": "code",
   "execution_count": 6,
   "id": "bd7481a4-ae54-454e-adee-a5a00179786d",
   "metadata": {
    "tags": []
   },
   "outputs": [
    {
     "ename": "NameError",
     "evalue": "name 'TIME_STEP' is not defined",
     "output_type": "error",
     "traceback": [
      "\u001b[0;31m---------------------------------------------------------------------------\u001b[0m",
      "\u001b[0;31mNameError\u001b[0m                                 Traceback (most recent call last)",
      "Cell \u001b[0;32mIn [6], line 13\u001b[0m\n\u001b[1;32m      9\u001b[0m \u001b[38;5;28;01mwhile\u001b[39;00m \u001b[38;5;129;01mnot\u001b[39;00m done:\n\u001b[1;32m     10\u001b[0m     \n\u001b[1;32m     11\u001b[0m     \u001b[38;5;66;03m#env.render()\u001b[39;00m\n\u001b[1;32m     12\u001b[0m     action\u001b[38;5;241m=\u001b[39menv\u001b[38;5;241m.\u001b[39maction_space\u001b[38;5;241m.\u001b[39msample()\n\u001b[0;32m---> 13\u001b[0m     reward, done \u001b[38;5;241m=\u001b[39m \u001b[43menv\u001b[49m\u001b[38;5;241;43m.\u001b[39;49m\u001b[43mstep\u001b[49m\u001b[43m(\u001b[49m\u001b[43maction\u001b[49m\u001b[43m)\u001b[49m\n\u001b[1;32m     14\u001b[0m     score\u001b[38;5;241m+\u001b[39m\u001b[38;5;241m=\u001b[39mreward\n\u001b[1;32m     16\u001b[0m \u001b[38;5;28mprint\u001b[39m(\u001b[38;5;124m\"\u001b[39m\u001b[38;5;124mEpisode:\u001b[39m\u001b[38;5;132;01m{}\u001b[39;00m\u001b[38;5;124m Score:\u001b[39m\u001b[38;5;132;01m{}\u001b[39;00m\u001b[38;5;124m\"\u001b[39m\u001b[38;5;241m.\u001b[39mformat(episode, score))\n",
      "Cell \u001b[0;32mIn [4], line 25\u001b[0m, in \u001b[0;36mPoliastro_env.step\u001b[0;34m(self, action)\u001b[0m\n\u001b[1;32m     23\u001b[0m dv \u001b[38;5;241m=\u001b[39m action \u001b[38;5;241m<<\u001b[39m (u\u001b[38;5;241m.\u001b[39mm \u001b[38;5;241m/\u001b[39m u\u001b[38;5;241m.\u001b[39ms)\n\u001b[1;32m     24\u001b[0m \u001b[38;5;28mself\u001b[39m\u001b[38;5;241m.\u001b[39morbit \u001b[38;5;241m=\u001b[39m \u001b[38;5;28mself\u001b[39m\u001b[38;5;241m.\u001b[39morbit\u001b[38;5;241m.\u001b[39mapply_maneuver(Maneuver\u001b[38;5;241m.\u001b[39mimpulse(dv))\n\u001b[0;32m---> 25\u001b[0m \u001b[38;5;28mself\u001b[39m\u001b[38;5;241m.\u001b[39morbit\u001b[38;5;241m=\u001b[39m\u001b[38;5;28mself\u001b[39m\u001b[38;5;241m.\u001b[39morbit\u001b[38;5;241m.\u001b[39mpropagate(\u001b[43mTIME_STEP\u001b[49m\u001b[38;5;241m<<\u001b[39mu\u001b[38;5;241m.\u001b[39mmin)\n\u001b[1;32m     27\u001b[0m \u001b[38;5;124;03m\"\"\"Get reward \"\"\"\u001b[39;00m\n\u001b[1;32m     28\u001b[0m reward\u001b[38;5;241m=\u001b[39m\u001b[38;5;28mself\u001b[39m\u001b[38;5;241m.\u001b[39mget_reward()\n",
      "\u001b[0;31mNameError\u001b[0m: name 'TIME_STEP' is not defined"
     ]
    }
   ],
   "source": [
    "episodes=5\n",
    "\n",
    "for episode in range(1,episodes+1):\n",
    "    \n",
    "    env.reset()\n",
    "    done=False\n",
    "    score=0\n",
    "    \n",
    "    while not done:\n",
    "        \n",
    "        #env.render()\n",
    "        action=env.action_space.sample()\n",
    "        reward, done = env.step(action)\n",
    "        score+=reward\n",
    "        \n",
    "    print(\"Episode:{} Score:{}\".format(episode, score))\n"
   ]
  }
 ],
 "metadata": {
  "kernelspec": {
   "display_name": "Python 3 (ipykernel)",
   "language": "python",
   "name": "python3"
  },
  "language_info": {
   "codemirror_mode": {
    "name": "ipython",
    "version": 3
   },
   "file_extension": ".py",
   "mimetype": "text/x-python",
   "name": "python",
   "nbconvert_exporter": "python",
   "pygments_lexer": "ipython3",
   "version": "3.10.6"
  }
 },
 "nbformat": 4,
 "nbformat_minor": 5
}
