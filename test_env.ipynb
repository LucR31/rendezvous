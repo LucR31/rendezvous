{
 "cells": [
  {
   "cell_type": "code",
   "execution_count": 1,
   "id": "83aa7b9c-dc0e-4767-9615-d6357d77f0b6",
   "metadata": {
    "tags": []
   },
   "outputs": [
    {
     "name": "stderr",
     "output_type": "stream",
     "text": [
      "/opt/anaconda3/envs/rl/lib/python3.10/site-packages/gym/spaces/box.py:73: UserWarning: \u001b[33mWARN: Box bound precision lowered by casting to float16\u001b[0m\n",
      "  logger.warn(\n"
     ]
    }
   ],
   "source": [
    "import gym\n",
    "from stable_baselines3 import PPO\n",
    "from stable_baselines3.common.vec_env import DummyVecEnv\n",
    "from stable_baselines3.common.evaluation import evaluate_policy\n",
    "from stable_baselines3.common.env_checker import check_env\n",
    "\n",
    "from stable_baselines3 import A2C\n",
    "from stable_baselines3.common.env_util import make_vec_env\n",
    "\n",
    "from envs.rendezvous import Poliastro_env\n",
    "env=Poliastro_env()\n",
    "#check_env(env)"
   ]
  },
  {
   "cell_type": "markdown",
   "id": "f9ee95f7-372f-4cc0-92bd-8213fcbf4f72",
   "metadata": {
    "jupyter": {
     "outputs_hidden": true
    },
    "tags": []
   },
   "source": [
    "\"\"\"episodes=10\n",
    "for episode in range(1,episodes+1):\n",
    "    \n",
    "    env.reset()\n",
    "    done=False\n",
    "    score=0\n",
    "    steps=0\n",
    "    \n",
    "    while not done:\n",
    "        \n",
    "        #env.render()\n",
    "        action=env.action_space.sample()\n",
    "        reward, done, ob = env.step(action)\n",
    "        score+=reward\n",
    "        steps+=1\n",
    "        if steps>12000:\n",
    "            break\n",
    "        \n",
    "    print(\"Episode:{}  Score:{}%  Steps: {}\".format(episode, score, steps))\"\"\"\n"
   ]
  },
  {
   "cell_type": "markdown",
   "id": "9cb62e11-fdf9-44ad-870e-fc9c2d94e0a4",
   "metadata": {},
   "source": [
    "# ML MODEL"
   ]
  },
  {
   "cell_type": "code",
   "execution_count": 2,
   "id": "dc7ea3bc-525a-4813-9b38-72f04380ae58",
   "metadata": {
    "tags": []
   },
   "outputs": [],
   "source": [
    "#env=DummyVecEnv([lambda: env])\n",
    "#model=PPO(\"MlpPolicy\", env, verbose=1)"
   ]
  },
  {
   "cell_type": "code",
   "execution_count": null,
   "id": "67023dff-9e96-487a-b25f-af00b95baa20",
   "metadata": {},
   "outputs": [],
   "source": [
    "model = A2C(\"MlpPolicy\", env, verbose=1)"
   ]
  }
 ],
 "metadata": {
  "kernelspec": {
   "display_name": "Python 3 (ipykernel)",
   "language": "python",
   "name": "python3"
  },
  "language_info": {
   "codemirror_mode": {
    "name": "ipython",
    "version": 3
   },
   "file_extension": ".py",
   "mimetype": "text/x-python",
   "name": "python",
   "nbconvert_exporter": "python",
   "pygments_lexer": "ipython3",
   "version": "3.10.6"
  }
 },
 "nbformat": 4,
 "nbformat_minor": 5
}
