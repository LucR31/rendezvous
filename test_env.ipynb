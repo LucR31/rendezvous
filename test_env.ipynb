{
 "cells": [
  {
   "cell_type": "code",
   "execution_count": 5,
   "id": "d66a19bd-f8c2-4ab5-b2d2-a1f6df5fbd4e",
   "metadata": {},
   "outputs": [],
   "source": [
    "import gym\n",
    "from stable_baselines3 import PPO\n",
    "from stable_baselines3.common.vec_env import DummyVecEnv\n",
    "from stable_baselines3.common.evaluation import evaluate_policy"
   ]
  },
  {
   "cell_type": "code",
   "execution_count": 6,
   "id": "83aa7b9c-dc0e-4767-9615-d6357d77f0b6",
   "metadata": {
    "tags": []
   },
   "outputs": [
    {
     "name": "stderr",
     "output_type": "stream",
     "text": [
      "/opt/anaconda3/envs/rl/lib/python3.10/site-packages/gym/spaces/box.py:73: UserWarning: \u001b[33mWARN: Box bound precision lowered by casting to float16\u001b[0m\n",
      "  logger.warn(\n"
     ]
    }
   ],
   "source": [
    "from envs.rendezvous import Poliastro_env\n",
    "env=Poliastro_env()"
   ]
  },
  {
   "cell_type": "code",
   "execution_count": 7,
   "id": "3c33b689-4f2a-4a1a-a1e0-5d64b62e3629",
   "metadata": {
    "collapsed": true,
    "jupyter": {
     "outputs_hidden": true
    },
    "tags": []
   },
   "outputs": [
    {
     "name": "stdout",
     "output_type": "stream",
     "text": [
      "Episode:1  Score:26%  Steps: 4193\n",
      "Episode:2  Score:77%  Steps: 3\n",
      "Episode:3  Score:0%  Steps: 12001\n",
      "Episode:4  Score:26%  Steps: 64\n",
      "Unexpected exception formatting exception. Falling back to standard exception\n"
     ]
    },
    {
     "name": "stderr",
     "output_type": "stream",
     "text": [
      "Traceback (most recent call last):\n",
      "  File \"/opt/anaconda3/envs/rl/lib/python3.10/site-packages/IPython/core/interactiveshell.py\", line 3378, in run_code\n",
      "    exec(code_obj, self.user_global_ns, self.user_ns)\n",
      "  File \"/var/folders/3n/4ywdnyms5bn5zmtm8ymmb1xw0000gn/T/ipykernel_10748/4101828870.py\", line 13, in <module>\n",
      "    reward, done, ob = env.step(action)\n",
      "  File \"/Users/lucas/Desktop/orbitai/rendezvous/envs/rendezvous.py\", line 58, in step\n",
      "  File \"/opt/anaconda3/envs/rl/lib/python3.10/site-packages/poliastro/maneuver.py\", line 76, in impulse\n",
      "    return cls((0 * u.s, dv))\n",
      "  File \"/opt/anaconda3/envs/rl/lib/python3.10/site-packages/poliastro/maneuver.py\", line 46, in __init__\n",
      "    self._dts, self._dvs = self._initialize(\n",
      "  File \"/opt/anaconda3/envs/rl/lib/python3.10/site-packages/astropy/units/decorators.py\", line 229, in wrapper\n",
      "    bound_args = wrapped_signature.bind(*func_args, **func_kwargs)\n",
      "KeyboardInterrupt\n",
      "\n",
      "During handling of the above exception, another exception occurred:\n",
      "\n",
      "Traceback (most recent call last):\n",
      "  File \"/opt/anaconda3/envs/rl/lib/python3.10/site-packages/IPython/core/interactiveshell.py\", line 1997, in showtraceback\n",
      "    stb = self.InteractiveTB.structured_traceback(\n",
      "  File \"/opt/anaconda3/envs/rl/lib/python3.10/site-packages/IPython/core/ultratb.py\", line 1112, in structured_traceback\n",
      "    return FormattedTB.structured_traceback(\n",
      "  File \"/opt/anaconda3/envs/rl/lib/python3.10/site-packages/IPython/core/ultratb.py\", line 1006, in structured_traceback\n",
      "    return VerboseTB.structured_traceback(\n",
      "  File \"/opt/anaconda3/envs/rl/lib/python3.10/site-packages/IPython/core/ultratb.py\", line 859, in structured_traceback\n",
      "    formatted_exception = self.format_exception_as_a_whole(etype, evalue, etb, number_of_lines_of_context,\n",
      "  File \"/opt/anaconda3/envs/rl/lib/python3.10/site-packages/IPython/core/ultratb.py\", line 812, in format_exception_as_a_whole\n",
      "    frames.append(self.format_record(r))\n",
      "  File \"/opt/anaconda3/envs/rl/lib/python3.10/site-packages/IPython/core/ultratb.py\", line 730, in format_record\n",
      "    result += ''.join(_format_traceback_lines(frame_info.lines, Colors, self.has_colors, lvals))\n",
      "  File \"/opt/anaconda3/envs/rl/lib/python3.10/site-packages/stack_data/utils.py\", line 145, in cached_property_wrapper\n",
      "    value = obj.__dict__[self.func.__name__] = self.func(obj)\n",
      "  File \"/opt/anaconda3/envs/rl/lib/python3.10/site-packages/stack_data/core.py\", line 734, in lines\n",
      "    pieces = self.included_pieces\n",
      "  File \"/opt/anaconda3/envs/rl/lib/python3.10/site-packages/stack_data/utils.py\", line 145, in cached_property_wrapper\n",
      "    value = obj.__dict__[self.func.__name__] = self.func(obj)\n",
      "  File \"/opt/anaconda3/envs/rl/lib/python3.10/site-packages/stack_data/core.py\", line 681, in included_pieces\n",
      "    pos = scope_pieces.index(self.executing_piece)\n",
      "  File \"/opt/anaconda3/envs/rl/lib/python3.10/site-packages/stack_data/utils.py\", line 145, in cached_property_wrapper\n",
      "    value = obj.__dict__[self.func.__name__] = self.func(obj)\n",
      "  File \"/opt/anaconda3/envs/rl/lib/python3.10/site-packages/stack_data/core.py\", line 660, in executing_piece\n",
      "    return only(\n",
      "  File \"/opt/anaconda3/envs/rl/lib/python3.10/site-packages/executing/executing.py\", line 168, in only\n",
      "    raise NotOneValueFound('Expected one value, found 0')\n",
      "executing.executing.NotOneValueFound: Expected one value, found 0\n"
     ]
    }
   ],
   "source": [
    "episodes=10\n",
    "for episode in range(1,episodes+1):\n",
    "    \n",
    "    env.reset()\n",
    "    done=False\n",
    "    score=0\n",
    "    steps=0\n",
    "    \n",
    "    while not done:\n",
    "        \n",
    "        #env.render()\n",
    "        action=env.action_space.sample()\n",
    "        reward, done, ob = env.step(action)\n",
    "        score+=reward\n",
    "        steps+=1\n",
    "        if steps>12000:\n",
    "            break\n",
    "        \n",
    "    print(\"Episode:{}  Score:{}%  Steps: {}\".format(episode, score, steps))\n"
   ]
  },
  {
   "cell_type": "markdown",
   "id": "9cb62e11-fdf9-44ad-870e-fc9c2d94e0a4",
   "metadata": {},
   "source": [
    "# ML MODEL"
   ]
  },
  {
   "cell_type": "code",
   "execution_count": null,
   "id": "dc7ea3bc-525a-4813-9b38-72f04380ae58",
   "metadata": {
    "tags": []
   },
   "outputs": [],
   "source": [
    "env=DummyVecEnv([lambda: env])\n",
    "model=PPO(\"MlpPolicy\", env, verbose=1)"
   ]
  }
 ],
 "metadata": {
  "kernelspec": {
   "display_name": "Python 3 (ipykernel)",
   "language": "python",
   "name": "python3"
  },
  "language_info": {
   "codemirror_mode": {
    "name": "ipython",
    "version": 3
   },
   "file_extension": ".py",
   "mimetype": "text/x-python",
   "name": "python",
   "nbconvert_exporter": "python",
   "pygments_lexer": "ipython3",
   "version": "3.10.6"
  }
 },
 "nbformat": 4,
 "nbformat_minor": 5
}
