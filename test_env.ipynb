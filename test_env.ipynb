{
 "cells": [
  {
   "cell_type": "markdown",
   "id": "1e1c70f7-ff7d-4102-8261-a465935bf2ba",
   "metadata": {
    "tags": []
   },
   "source": [
    "## Libraries"
   ]
  },
  {
   "cell_type": "code",
   "execution_count": 46,
   "id": "83aa7b9c-dc0e-4767-9615-d6357d77f0b6",
   "metadata": {
    "tags": []
   },
   "outputs": [
    {
     "name": "stdout",
     "output_type": "stream",
     "text": [
      "The autoreload extension is already loaded. To reload it, use:\n",
      "  %reload_ext autoreload\n"
     ]
    }
   ],
   "source": [
    "%load_ext autoreload\n",
    "%autoreload 2\n",
    "\n",
    "#general\n",
    "import gym\n",
    "import os\n",
    "import importlib\n",
    "from astropy import units as u\n",
    "import numpy as np\n",
    "import matplotlib.pyplot as plt\n",
    "import seaborn as sns\n",
    "\n",
    "#from baselines\n",
    "from stable_baselines3 import PPO\n",
    "from stable_baselines3.common.vec_env import DummyVecEnv\n",
    "from stable_baselines3.common.evaluation import evaluate_policy\n",
    "#from stable_baselines3.common.env_checker import check_env\n",
    "\n",
    "#local\n",
    "from envs.rendezvous import Poliastro_env\n",
    "from envs.env_test import play_game, play_game_train\n"
   ]
  },
  {
   "cell_type": "code",
   "execution_count": 53,
   "id": "c19766f3-8d86-4980-8355-c99d7d56c7a0",
   "metadata": {
    "tags": []
   },
   "outputs": [],
   "source": [
    "env=Poliastro_env(render_mode=\"human\",\n",
    "                  distance=\"non-euclidean\",\n",
    "                  #fuel=fuel\n",
    "                 )"
   ]
  },
  {
   "cell_type": "markdown",
   "id": "378a8676-5a94-4ee2-9138-38aaa7892f78",
   "metadata": {
    "tags": []
   },
   "source": [
    "## non-train evironment"
   ]
  },
  {
   "cell_type": "code",
   "execution_count": 48,
   "id": "04c70c9c-062e-4f35-94e6-b3125eae4a00",
   "metadata": {
    "collapsed": true,
    "jupyter": {
     "outputs_hidden": true
    },
    "tags": []
   },
   "outputs": [
    {
     "name": "stderr",
     "output_type": "stream",
     "text": [
      "Progress…:   0%|                                         | 0/10 [00:18<?, ?it/s]\n"
     ]
    },
    {
     "ename": "KeyboardInterrupt",
     "evalue": "",
     "output_type": "error",
     "traceback": [
      "\u001b[0;31m---------------------------------------------------------------------------\u001b[0m",
      "\u001b[0;31mKeyboardInterrupt\u001b[0m                         Traceback (most recent call last)",
      "Cell \u001b[0;32mIn [48], line 1\u001b[0m\n\u001b[0;32m----> 1\u001b[0m mean_no_trained,scores_no_trained\u001b[38;5;241m=\u001b[39m\u001b[43mplay_game\u001b[49m\u001b[43m(\u001b[49m\u001b[38;5;241;43m10\u001b[39;49m\u001b[43m,\u001b[49m\u001b[43menv\u001b[49m\u001b[43m)\u001b[49m\n",
      "File \u001b[0;32m~/Desktop/rend/rendezvous/envs/env_test.py:41\u001b[0m, in \u001b[0;36mplay_game\u001b[0;34m(episodes, env)\u001b[0m\n\u001b[1;32m     39\u001b[0m     env\u001b[38;5;241m.\u001b[39mrender()\n\u001b[1;32m     40\u001b[0m     action\u001b[38;5;241m=\u001b[39menv\u001b[38;5;241m.\u001b[39maction_space\u001b[38;5;241m.\u001b[39msample()\n\u001b[0;32m---> 41\u001b[0m     obs, reward, done, info\u001b[38;5;241m=\u001b[39m\u001b[43menv\u001b[49m\u001b[38;5;241;43m.\u001b[39;49m\u001b[43mstep\u001b[49m\u001b[43m(\u001b[49m\u001b[43maction\u001b[49m\u001b[43m)\u001b[49m\n\u001b[1;32m     42\u001b[0m     score\u001b[38;5;241m+\u001b[39m\u001b[38;5;241m=\u001b[39mreward\n\u001b[1;32m     45\u001b[0m list_scores\u001b[38;5;241m.\u001b[39mappend(score)\n",
      "File \u001b[0;32m~/Desktop/rend/rendezvous/envs/rendezvous.py:128\u001b[0m, in \u001b[0;36mPoliastro_env.step\u001b[0;34m(self, action)\u001b[0m\n\u001b[1;32m    126\u001b[0m \u001b[38;5;28mself\u001b[39m\u001b[38;5;241m.\u001b[39morbit \u001b[38;5;241m=\u001b[39m \u001b[38;5;28mself\u001b[39m\u001b[38;5;241m.\u001b[39morbit\u001b[38;5;241m.\u001b[39mapply_maneuver(Maneuver\u001b[38;5;241m.\u001b[39mimpulse(dv))\n\u001b[1;32m    127\u001b[0m \u001b[38;5;28mself\u001b[39m\u001b[38;5;241m.\u001b[39morbit\u001b[38;5;241m=\u001b[39m\u001b[38;5;28mself\u001b[39m\u001b[38;5;241m.\u001b[39morbit\u001b[38;5;241m.\u001b[39mpropagate(STEP\u001b[38;5;241m<<\u001b[39mu\u001b[38;5;241m.\u001b[39mmin)\n\u001b[0;32m--> 128\u001b[0m \u001b[38;5;28mself\u001b[39m\u001b[38;5;241m.\u001b[39mtarget\u001b[38;5;241m=\u001b[39m\u001b[38;5;28;43mself\u001b[39;49m\u001b[38;5;241;43m.\u001b[39;49m\u001b[43mtarget\u001b[49m\u001b[38;5;241;43m.\u001b[39;49m\u001b[43mpropagate\u001b[49m\u001b[43m(\u001b[49m\u001b[43mSTEP\u001b[49m\u001b[38;5;241;43m<<\u001b[39;49m\u001b[43mu\u001b[49m\u001b[38;5;241;43m.\u001b[39;49m\u001b[43mmin\u001b[49m\u001b[43m)\u001b[49m\n\u001b[1;32m    130\u001b[0m \u001b[38;5;124;03m\"\"\"fuel consumption\"\"\"\u001b[39;00m\n\u001b[1;32m    131\u001b[0m \u001b[38;5;28mself\u001b[39m\u001b[38;5;241m.\u001b[39mfuel\u001b[38;5;241m-\u001b[39m\u001b[38;5;241m=\u001b[39mvect_l(dv\u001b[38;5;241m.\u001b[39mvalue)\u001b[38;5;241m*\u001b[39m\u001b[38;5;241m0.1\u001b[39m\n",
      "File \u001b[0;32m~/anaconda3/envs/rl/lib/python3.10/site-packages/poliastro/twobody/orbit/scalar.py:448\u001b[0m, in \u001b[0;36mOrbit.propagate\u001b[0;34m(self, value, method)\u001b[0m\n\u001b[1;32m    440\u001b[0m     \u001b[38;5;28;01mraise\u001b[39;00m \u001b[38;5;167;01mValueError\u001b[39;00m(\n\u001b[1;32m    441\u001b[0m         \u001b[38;5;124m\"\u001b[39m\u001b[38;5;124mCan not use an elliptic/parabolic propagator for hyperbolic orbits.\u001b[39m\u001b[38;5;124m\"\u001b[39m\n\u001b[1;32m    442\u001b[0m     )\n\u001b[1;32m    444\u001b[0m new_state \u001b[38;5;241m=\u001b[39m method\u001b[38;5;241m.\u001b[39mpropagate(\n\u001b[1;32m    445\u001b[0m     \u001b[38;5;28mself\u001b[39m\u001b[38;5;241m.\u001b[39m_state,\n\u001b[1;32m    446\u001b[0m     time_of_flight,\n\u001b[1;32m    447\u001b[0m )\n\u001b[0;32m--> 448\u001b[0m new_epoch \u001b[38;5;241m=\u001b[39m \u001b[38;5;28;43mself\u001b[39;49m\u001b[38;5;241;43m.\u001b[39;49m\u001b[43mepoch\u001b[49m\u001b[43m \u001b[49m\u001b[38;5;241;43m+\u001b[39;49m\u001b[43m \u001b[49m\u001b[43mtime_of_flight\u001b[49m\n\u001b[1;32m    450\u001b[0m \u001b[38;5;28;01mreturn\u001b[39;00m \u001b[38;5;28mself\u001b[39m\u001b[38;5;241m.\u001b[39m\u001b[38;5;18m__class__\u001b[39m(new_state, new_epoch)\n",
      "File \u001b[0;32m~/anaconda3/envs/rl/lib/python3.10/site-packages/astropy/time/core.py:2272\u001b[0m, in \u001b[0;36mTime.__add__\u001b[0;34m(self, other)\u001b[0m\n\u001b[1;32m   2269\u001b[0m jd1 \u001b[38;5;241m=\u001b[39m out\u001b[38;5;241m.\u001b[39m_time\u001b[38;5;241m.\u001b[39mjd1 \u001b[38;5;241m+\u001b[39m other\u001b[38;5;241m.\u001b[39m_time\u001b[38;5;241m.\u001b[39mjd1\n\u001b[1;32m   2270\u001b[0m jd2 \u001b[38;5;241m=\u001b[39m out\u001b[38;5;241m.\u001b[39m_time\u001b[38;5;241m.\u001b[39mjd2 \u001b[38;5;241m+\u001b[39m other\u001b[38;5;241m.\u001b[39m_time\u001b[38;5;241m.\u001b[39mjd2\n\u001b[0;32m-> 2272\u001b[0m \u001b[43mout\u001b[49m\u001b[38;5;241;43m.\u001b[39;49m\u001b[43m_time\u001b[49m\u001b[38;5;241;43m.\u001b[39;49m\u001b[43mjd1\u001b[49m, out\u001b[38;5;241m.\u001b[39m_time\u001b[38;5;241m.\u001b[39mjd2 \u001b[38;5;241m=\u001b[39m day_frac(jd1, jd2)\n\u001b[1;32m   2274\u001b[0m \u001b[38;5;66;03m# Go back to left-side scale if needed\u001b[39;00m\n\u001b[1;32m   2275\u001b[0m out\u001b[38;5;241m.\u001b[39m_set_scale(\u001b[38;5;28mself\u001b[39m\u001b[38;5;241m.\u001b[39mscale)\n",
      "File \u001b[0;32m~/anaconda3/envs/rl/lib/python3.10/site-packages/astropy/time/formats.py:183\u001b[0m, in \u001b[0;36mTimeFormat.jd1\u001b[0;34m(self, jd1)\u001b[0m\n\u001b[1;32m    181\u001b[0m \u001b[38;5;129m@jd1\u001b[39m\u001b[38;5;241m.\u001b[39msetter\n\u001b[1;32m    182\u001b[0m \u001b[38;5;28;01mdef\u001b[39;00m \u001b[38;5;21mjd1\u001b[39m(\u001b[38;5;28mself\u001b[39m, jd1):\n\u001b[0;32m--> 183\u001b[0m     \u001b[38;5;28mself\u001b[39m\u001b[38;5;241m.\u001b[39m_jd1 \u001b[38;5;241m=\u001b[39m \u001b[43m_validate_jd_for_storage\u001b[49m\u001b[43m(\u001b[49m\u001b[43mjd1\u001b[49m\u001b[43m)\u001b[49m\n\u001b[1;32m    184\u001b[0m     \u001b[38;5;28;01mif\u001b[39;00m \u001b[38;5;28mself\u001b[39m\u001b[38;5;241m.\u001b[39m_jd2 \u001b[38;5;129;01mis\u001b[39;00m \u001b[38;5;129;01mnot\u001b[39;00m \u001b[38;5;28;01mNone\u001b[39;00m:\n\u001b[1;32m    185\u001b[0m         \u001b[38;5;28mself\u001b[39m\u001b[38;5;241m.\u001b[39m_jd1, \u001b[38;5;28mself\u001b[39m\u001b[38;5;241m.\u001b[39m_jd2 \u001b[38;5;241m=\u001b[39m _broadcast_writeable(\u001b[38;5;28mself\u001b[39m\u001b[38;5;241m.\u001b[39m_jd1, \u001b[38;5;28mself\u001b[39m\u001b[38;5;241m.\u001b[39m_jd2)\n",
      "File \u001b[0;32m~/anaconda3/envs/rl/lib/python3.10/site-packages/astropy/time/formats.py:1908\u001b[0m, in \u001b[0;36m_validate_jd_for_storage\u001b[0;34m(jd)\u001b[0m\n\u001b[1;32m   1902\u001b[0m             out[\u001b[38;5;241m.\u001b[39m\u001b[38;5;241m.\u001b[39m\u001b[38;5;241m.\u001b[39m] \u001b[38;5;241m=\u001b[39m datetime\u001b[38;5;241m.\u001b[39mtimedelta(days\u001b[38;5;241m=\u001b[39mjd1_,\n\u001b[1;32m   1903\u001b[0m                                           microseconds\u001b[38;5;241m=\u001b[39mjd2_ \u001b[38;5;241m*\u001b[39m \u001b[38;5;241m86400\u001b[39m \u001b[38;5;241m*\u001b[39m \u001b[38;5;241m1e6\u001b[39m)\n\u001b[1;32m   1905\u001b[0m         \u001b[38;5;28;01mreturn\u001b[39;00m \u001b[38;5;28mself\u001b[39m\u001b[38;5;241m.\u001b[39mmask_if_needed(iterator\u001b[38;5;241m.\u001b[39moperands[\u001b[38;5;241m-\u001b[39m\u001b[38;5;241m1\u001b[39m])\n\u001b[0;32m-> 1908\u001b[0m \u001b[38;5;28;01mdef\u001b[39;00m \u001b[38;5;21m_validate_jd_for_storage\u001b[39m(jd):\n\u001b[1;32m   1909\u001b[0m     \u001b[38;5;28;01mif\u001b[39;00m \u001b[38;5;28misinstance\u001b[39m(jd, (\u001b[38;5;28mfloat\u001b[39m, \u001b[38;5;28mint\u001b[39m)):\n\u001b[1;32m   1910\u001b[0m         \u001b[38;5;28;01mreturn\u001b[39;00m np\u001b[38;5;241m.\u001b[39marray(jd, dtype\u001b[38;5;241m=\u001b[39mnp\u001b[38;5;241m.\u001b[39mfloat_)\n",
      "\u001b[0;31mKeyboardInterrupt\u001b[0m: "
     ]
    }
   ],
   "source": [
    "mean_no_trained,scores_no_trained=play_game(10,env)"
   ]
  },
  {
   "cell_type": "code",
   "execution_count": 35,
   "id": "14158ec9-0967-43c8-8c91-671cbfa72c78",
   "metadata": {},
   "outputs": [],
   "source": [
    "env.close()"
   ]
  },
  {
   "cell_type": "code",
   "execution_count": 39,
   "id": "2fd71e6b-5ffa-417d-b2d8-9ce831bcb811",
   "metadata": {},
   "outputs": [
    {
     "data": {
      "image/png": "[encoded data removed]",
      "text/plain": [
       "<Figure size 640x480 with 1 Axes>"
      ]
     },
     "metadata": {},
     "output_type": "display_data"
    }
   ],
   "source": [
    "sns.histplot(scores_no_trained,kde=True);"
   ]
  },
  {
   "cell_type": "markdown",
   "id": "9cb62e11-fdf9-44ad-870e-fc9c2d94e0a4",
   "metadata": {},
   "source": [
    "# ML model"
   ]
  },
  {
   "cell_type": "code",
   "execution_count": 51,
   "id": "7e0c0b88-95bd-4d04-a918-28d92814b89c",
   "metadata": {},
   "outputs": [],
   "source": [
    "log_path=os.path.join(\"logs\",\"model_dist_5\")"
   ]
  },
  {
   "cell_type": "code",
   "execution_count": 52,
   "id": "dc7ea3bc-525a-4813-9b38-72f04380ae58",
   "metadata": {
    "tags": []
   },
   "outputs": [
    {
     "data": {
      "text/plain": [
       "<stable_baselines3.ppo.ppo.PPO at 0x7f513575fe50>"
      ]
     },
     "execution_count": 52,
     "metadata": {},
     "output_type": "execute_result"
    }
   ],
   "source": [
    "env_dummy=DummyVecEnv([lambda: env])\n",
    "model=PPO(\"MultiInputPolicy\", env_dummy, verbose=0,tensorboard_log=log_path)\n",
    "model.learn(total_timesteps=50000)"
   ]
  },
  {
   "cell_type": "markdown",
   "id": "70fe98ef-0f82-4acf-beb5-7d8f441cec39",
   "metadata": {
    "jp-MarkdownHeadingCollapsed": true,
    "tags": []
   },
   "source": [
    "### saving the model"
   ]
  },
  {
   "cell_type": "code",
   "execution_count": 74,
   "id": "842ddbbb-5a92-4507-8fe0-12ea1b69047d",
   "metadata": {},
   "outputs": [],
   "source": [
    "log_path_model=os.path.join(\"models\",\"non-ecu2-1k-fuel-40k-steps\")\n",
    "model.save(log_path_model)"
   ]
  },
  {
   "cell_type": "code",
   "execution_count": null,
   "id": "415d5b5f-5272-4f31-a978-ea66873acb46",
   "metadata": {},
   "outputs": [],
   "source": [
    "#model=PPO.load(log_path2,env=env)"
   ]
  },
  {
   "cell_type": "markdown",
   "id": "49848507-c5d6-4ecc-ad35-6eb3f3e5fb52",
   "metadata": {},
   "source": [
    "### testing model"
   ]
  },
  {
   "cell_type": "code",
   "execution_count": 54,
   "id": "0a27d986-23f6-4b1f-af0c-ea106ae88fa2",
   "metadata": {
    "tags": []
   },
   "outputs": [
    {
     "name": "stderr",
     "output_type": "stream",
     "text": [
      "Progress…: 100%|████████████████████████████████| 10/10 [01:28<00:00,  8.86s/it]\n"
     ]
    }
   ],
   "source": [
    "mean_trained, list_trained=play_game_train(10, env, model)"
   ]
  },
  {
   "cell_type": "code",
   "execution_count": 12,
   "id": "1930d9e7-b77a-49a9-9413-53a218c4a0bc",
   "metadata": {
    "collapsed": true,
    "jupyter": {
     "outputs_hidden": true
    },
    "tags": []
   },
   "outputs": [
    {
     "ename": "NameError",
     "evalue": "name 'mean_no_trained' is not defined",
     "output_type": "error",
     "traceback": [
      "\u001b[0;31m---------------------------------------------------------------------------\u001b[0m",
      "\u001b[0;31mNameError\u001b[0m                                 Traceback (most recent call last)",
      "Cell \u001b[0;32mIn [12], line 1\u001b[0m\n\u001b[0;32m----> 1\u001b[0m \u001b[38;5;28mprint\u001b[39m(\u001b[38;5;124mf\u001b[39m\u001b[38;5;124m\"\u001b[39m\u001b[38;5;124mno trained mean:\u001b[39m\u001b[38;5;132;01m{\u001b[39;00mmean_no_trained\u001b[38;5;132;01m}\u001b[39;00m\u001b[38;5;124m, model PPO mean: \u001b[39m\u001b[38;5;132;01m{\u001b[39;00mmean_trained\u001b[38;5;132;01m}\u001b[39;00m\u001b[38;5;124m\"\u001b[39m)\n",
      "\u001b[0;31mNameError\u001b[0m: name 'mean_no_trained' is not defined"
     ]
    }
   ],
   "source": [
    "print(f\"no trained mean:{mean_no_trained}, model PPO mean: {mean_trained}\")"
   ]
  },
  {
   "cell_type": "code",
   "execution_count": 55,
   "id": "48e58ac9-0df2-4f12-981d-7e98d7510f71",
   "metadata": {
    "tags": []
   },
   "outputs": [
    {
     "ename": "NameError",
     "evalue": "name 'scores_no_trained' is not defined",
     "output_type": "error",
     "traceback": [
      "\u001b[0;31m---------------------------------------------------------------------------\u001b[0m",
      "\u001b[0;31mNameError\u001b[0m                                 Traceback (most recent call last)",
      "Cell \u001b[0;32mIn [55], line 2\u001b[0m\n\u001b[1;32m      1\u001b[0m sns\u001b[38;5;241m.\u001b[39mhistplot(list_trained, kde\u001b[38;5;241m=\u001b[39m\u001b[38;5;28;01mTrue\u001b[39;00m);\n\u001b[0;32m----> 2\u001b[0m sns\u001b[38;5;241m.\u001b[39mhistplot(\u001b[43mscores_no_trained\u001b[49m,kde\u001b[38;5;241m=\u001b[39m\u001b[38;5;28;01mTrue\u001b[39;00m)\n",
      "\u001b[0;31mNameError\u001b[0m: name 'scores_no_trained' is not defined"
     ]
    },
    {
     "data": {
      "image/png": "[encoded data removed]",
      "text/plain": [
       "<Figure size 640x480 with 1 Axes>"
      ]
     },
     "metadata": {},
     "output_type": "display_data"
    }
   ],
   "source": [
    "sns.histplot(list_trained, kde=True);\n",
    "sns.histplot(scores_no_trained,kde=True);"
   ]
  },
  {
   "cell_type": "markdown",
   "id": "70fbf039-5ebd-4821-8e74-6eceed876ba0",
   "metadata": {},
   "source": [
    "# Evaluation"
   ]
  },
  {
   "cell_type": "code",
   "execution_count": 38,
   "id": "b4a2fa3d-38b0-4eef-b5f5-a4722d0c9f83",
   "metadata": {},
   "outputs": [],
   "source": [
    "training_log_path=os.path.join(\"logs\")"
   ]
  },
  {
   "cell_type": "code",
   "execution_count": 40,
   "id": "90d1d4c2-e5c5-469e-bde0-f92f2abac638",
   "metadata": {},
   "outputs": [
    {
     "name": "stdout",
     "output_type": "stream",
     "text": [
      "TensorFlow installation not found - running with reduced feature set.\n",
      "\n",
      "NOTE: Using experimental fast data loading logic. To disable, pass\n",
      "    \"--load_fast=false\" and report issues on GitHub. More details:\n",
      "    https://github.com/tensorflow/tensorboard/issues/4784\n",
      "\n",
      "Serving TensorBoard on localhost; to expose to the network, use a proxy or pass --bind_all\n",
      "TensorBoard 2.10.1 at http://localhost:6006/ (Press CTRL+C to quit)\n",
      "^C\n"
     ]
    }
   ],
   "source": [
    "!tensorboard --logdir={training_log_path}"
   ]
  }
 ],
 "metadata": {
  "kernelspec": {
   "display_name": "Python 2",
   "language": "python",
   "name": "python2"
  },
  "language_info": {
   "codemirror_mode": {
    "name": "ipython",
    "version": 3
   },
   "file_extension": ".py",
   "mimetype": "text/x-python",
   "name": "python",
   "nbconvert_exporter": "python",
   "pygments_lexer": "ipython3",
   "version": "3.10.6"
  }
 },
 "nbformat": 4,
 "nbformat_minor": 5
}
